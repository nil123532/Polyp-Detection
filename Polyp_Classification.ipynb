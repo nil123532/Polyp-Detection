{
  "nbformat": 4,
  "nbformat_minor": 0,
  "metadata": {
    "colab": {
      "name": "Polyp Classification",
      "provenance": [],
      "collapsed_sections": []
    },
    "kernelspec": {
      "display_name": "Python 3",
      "name": "python3"
    },
    "language_info": {
      "name": "python"
    },
    "accelerator": "GPU"
  },
  "cells": [
    {
      "cell_type": "code",
      "metadata": {
        "colab": {
          "base_uri": "https://localhost:8080/"
        },
        "id": "obCLR8kqyFGy",
        "outputId": "b1566f25-2de2-48d0-d466-56faabed1b32"
      },
      "source": [
        "from google.colab import drive\n",
        "drive.mount('/content/drive',force_remount=True) "
      ],
      "execution_count": null,
      "outputs": [
        {
          "output_type": "stream",
          "name": "stdout",
          "text": [
            "Mounted at /content/drive\n"
          ]
        }
      ]
    },
    {
      "cell_type": "markdown",
      "metadata": {
        "id": "C4zSDuM1IGyW"
      },
      "source": [
        ""
      ]
    },
    {
      "cell_type": "code",
      "metadata": {
        "colab": {
          "base_uri": "https://localhost:8080/"
        },
        "id": "Vp5CmzhbLoDP",
        "outputId": "8c3c76b6-d858-4130-d0ce-a9ca78efc9a4"
      },
      "source": [
        "!pip install focal-loss"
      ],
      "execution_count": null,
      "outputs": [
        {
          "output_type": "stream",
          "name": "stdout",
          "text": [
            "Collecting focal-loss\n",
            "  Downloading focal_loss-0.0.7-py3-none-any.whl (19 kB)\n",
            "Requirement already satisfied: tensorflow>=2.2 in /usr/local/lib/python3.7/dist-packages (from focal-loss) (2.6.0)\n",
            "Requirement already satisfied: clang~=5.0 in /usr/local/lib/python3.7/dist-packages (from tensorflow>=2.2->focal-loss) (5.0)\n",
            "Requirement already satisfied: six~=1.15.0 in /usr/local/lib/python3.7/dist-packages (from tensorflow>=2.2->focal-loss) (1.15.0)\n",
            "Requirement already satisfied: h5py~=3.1.0 in /usr/local/lib/python3.7/dist-packages (from tensorflow>=2.2->focal-loss) (3.1.0)\n",
            "Requirement already satisfied: opt-einsum~=3.3.0 in /usr/local/lib/python3.7/dist-packages (from tensorflow>=2.2->focal-loss) (3.3.0)\n",
            "Requirement already satisfied: termcolor~=1.1.0 in /usr/local/lib/python3.7/dist-packages (from tensorflow>=2.2->focal-loss) (1.1.0)\n",
            "Requirement already satisfied: absl-py~=0.10 in /usr/local/lib/python3.7/dist-packages (from tensorflow>=2.2->focal-loss) (0.12.0)\n",
            "Requirement already satisfied: tensorflow-estimator~=2.6 in /usr/local/lib/python3.7/dist-packages (from tensorflow>=2.2->focal-loss) (2.6.0)\n",
            "Requirement already satisfied: keras-preprocessing~=1.1.2 in /usr/local/lib/python3.7/dist-packages (from tensorflow>=2.2->focal-loss) (1.1.2)\n",
            "Requirement already satisfied: typing-extensions~=3.7.4 in /usr/local/lib/python3.7/dist-packages (from tensorflow>=2.2->focal-loss) (3.7.4.3)\n",
            "Requirement already satisfied: wheel~=0.35 in /usr/local/lib/python3.7/dist-packages (from tensorflow>=2.2->focal-loss) (0.37.0)\n",
            "Requirement already satisfied: protobuf>=3.9.2 in /usr/local/lib/python3.7/dist-packages (from tensorflow>=2.2->focal-loss) (3.17.3)\n",
            "Requirement already satisfied: astunparse~=1.6.3 in /usr/local/lib/python3.7/dist-packages (from tensorflow>=2.2->focal-loss) (1.6.3)\n",
            "Requirement already satisfied: google-pasta~=0.2 in /usr/local/lib/python3.7/dist-packages (from tensorflow>=2.2->focal-loss) (0.2.0)\n",
            "Requirement already satisfied: flatbuffers~=1.12.0 in /usr/local/lib/python3.7/dist-packages (from tensorflow>=2.2->focal-loss) (1.12)\n",
            "Requirement already satisfied: tensorboard~=2.6 in /usr/local/lib/python3.7/dist-packages (from tensorflow>=2.2->focal-loss) (2.6.0)\n",
            "Requirement already satisfied: wrapt~=1.12.1 in /usr/local/lib/python3.7/dist-packages (from tensorflow>=2.2->focal-loss) (1.12.1)\n",
            "Requirement already satisfied: gast==0.4.0 in /usr/local/lib/python3.7/dist-packages (from tensorflow>=2.2->focal-loss) (0.4.0)\n",
            "Requirement already satisfied: grpcio<2.0,>=1.37.0 in /usr/local/lib/python3.7/dist-packages (from tensorflow>=2.2->focal-loss) (1.41.0)\n",
            "Requirement already satisfied: keras~=2.6 in /usr/local/lib/python3.7/dist-packages (from tensorflow>=2.2->focal-loss) (2.6.0)\n",
            "Requirement already satisfied: numpy~=1.19.2 in /usr/local/lib/python3.7/dist-packages (from tensorflow>=2.2->focal-loss) (1.19.5)\n",
            "Requirement already satisfied: cached-property in /usr/local/lib/python3.7/dist-packages (from h5py~=3.1.0->tensorflow>=2.2->focal-loss) (1.5.2)\n",
            "Requirement already satisfied: werkzeug>=0.11.15 in /usr/local/lib/python3.7/dist-packages (from tensorboard~=2.6->tensorflow>=2.2->focal-loss) (1.0.1)\n",
            "Requirement already satisfied: tensorboard-data-server<0.7.0,>=0.6.0 in /usr/local/lib/python3.7/dist-packages (from tensorboard~=2.6->tensorflow>=2.2->focal-loss) (0.6.1)\n",
            "Requirement already satisfied: google-auth<2,>=1.6.3 in /usr/local/lib/python3.7/dist-packages (from tensorboard~=2.6->tensorflow>=2.2->focal-loss) (1.35.0)\n",
            "Requirement already satisfied: requests<3,>=2.21.0 in /usr/local/lib/python3.7/dist-packages (from tensorboard~=2.6->tensorflow>=2.2->focal-loss) (2.23.0)\n",
            "Requirement already satisfied: markdown>=2.6.8 in /usr/local/lib/python3.7/dist-packages (from tensorboard~=2.6->tensorflow>=2.2->focal-loss) (3.3.4)\n",
            "Requirement already satisfied: google-auth-oauthlib<0.5,>=0.4.1 in /usr/local/lib/python3.7/dist-packages (from tensorboard~=2.6->tensorflow>=2.2->focal-loss) (0.4.6)\n",
            "Requirement already satisfied: setuptools>=41.0.0 in /usr/local/lib/python3.7/dist-packages (from tensorboard~=2.6->tensorflow>=2.2->focal-loss) (57.4.0)\n",
            "Requirement already satisfied: tensorboard-plugin-wit>=1.6.0 in /usr/local/lib/python3.7/dist-packages (from tensorboard~=2.6->tensorflow>=2.2->focal-loss) (1.8.0)\n",
            "Requirement already satisfied: cachetools<5.0,>=2.0.0 in /usr/local/lib/python3.7/dist-packages (from google-auth<2,>=1.6.3->tensorboard~=2.6->tensorflow>=2.2->focal-loss) (4.2.4)\n",
            "Requirement already satisfied: rsa<5,>=3.1.4 in /usr/local/lib/python3.7/dist-packages (from google-auth<2,>=1.6.3->tensorboard~=2.6->tensorflow>=2.2->focal-loss) (4.7.2)\n",
            "Requirement already satisfied: pyasn1-modules>=0.2.1 in /usr/local/lib/python3.7/dist-packages (from google-auth<2,>=1.6.3->tensorboard~=2.6->tensorflow>=2.2->focal-loss) (0.2.8)\n",
            "Requirement already satisfied: requests-oauthlib>=0.7.0 in /usr/local/lib/python3.7/dist-packages (from google-auth-oauthlib<0.5,>=0.4.1->tensorboard~=2.6->tensorflow>=2.2->focal-loss) (1.3.0)\n",
            "Requirement already satisfied: importlib-metadata in /usr/local/lib/python3.7/dist-packages (from markdown>=2.6.8->tensorboard~=2.6->tensorflow>=2.2->focal-loss) (4.8.1)\n",
            "Requirement already satisfied: pyasn1<0.5.0,>=0.4.6 in /usr/local/lib/python3.7/dist-packages (from pyasn1-modules>=0.2.1->google-auth<2,>=1.6.3->tensorboard~=2.6->tensorflow>=2.2->focal-loss) (0.4.8)\n",
            "Requirement already satisfied: certifi>=2017.4.17 in /usr/local/lib/python3.7/dist-packages (from requests<3,>=2.21.0->tensorboard~=2.6->tensorflow>=2.2->focal-loss) (2021.5.30)\n",
            "Requirement already satisfied: idna<3,>=2.5 in /usr/local/lib/python3.7/dist-packages (from requests<3,>=2.21.0->tensorboard~=2.6->tensorflow>=2.2->focal-loss) (2.10)\n",
            "Requirement already satisfied: urllib3!=1.25.0,!=1.25.1,<1.26,>=1.21.1 in /usr/local/lib/python3.7/dist-packages (from requests<3,>=2.21.0->tensorboard~=2.6->tensorflow>=2.2->focal-loss) (1.24.3)\n",
            "Requirement already satisfied: chardet<4,>=3.0.2 in /usr/local/lib/python3.7/dist-packages (from requests<3,>=2.21.0->tensorboard~=2.6->tensorflow>=2.2->focal-loss) (3.0.4)\n",
            "Requirement already satisfied: oauthlib>=3.0.0 in /usr/local/lib/python3.7/dist-packages (from requests-oauthlib>=0.7.0->google-auth-oauthlib<0.5,>=0.4.1->tensorboard~=2.6->tensorflow>=2.2->focal-loss) (3.1.1)\n",
            "Requirement already satisfied: zipp>=0.5 in /usr/local/lib/python3.7/dist-packages (from importlib-metadata->markdown>=2.6.8->tensorboard~=2.6->tensorflow>=2.2->focal-loss) (3.6.0)\n",
            "Installing collected packages: focal-loss\n",
            "Successfully installed focal-loss-0.0.7\n"
          ]
        }
      ]
    },
    {
      "cell_type": "code",
      "metadata": {
        "colab": {
          "base_uri": "https://localhost:8080/"
        },
        "id": "r4P60bihyRV4",
        "outputId": "a9bf1de1-6e9b-4650-a58d-62d6a68cae5f"
      },
      "source": [
        "cd /content/drive/MyDrive/Classes/images"
      ],
      "execution_count": null,
      "outputs": [
        {
          "output_type": "stream",
          "name": "stdout",
          "text": [
            "/content/drive/MyDrive/Classes/images\n"
          ]
        }
      ]
    },
    {
      "cell_type": "code",
      "metadata": {
        "id": "EyXvsVZpma2l"
      },
      "source": [
        "import tensorflow as tf\n",
        "from tensorflow.keras.layers import Conv2D,Flatten,Dense,MaxPool2D,BatchNormalization, GlobalAveragePooling2D \n",
        "from tensorflow.keras.callbacks import EarlyStopping \n",
        "from tensorflow.keras.callbacks import ModelCheckpoint\n",
        "from tensorflow.keras.applications.resnet50 import preprocess_input, decode_predictions\n",
        "from tensorflow.keras.preprocessing.image import ImageDataGenerator,load_img\n",
        "from tensorflow.keras.applications.resnet50 import ResNet50\n",
        "from tensorflow.keras.preprocessing import image\n",
        "from tensorflow.keras.models import Sequential\n",
        "from tensorflow.keras.models import Model \n",
        "from focal_loss import sparse_categorical_focal_loss, SparseCategoricalFocalLoss\n",
        "import matplotlib.pyplot as plt  \n",
        "import numpy as np"
      ],
      "execution_count": null,
      "outputs": []
    },
    {
      "cell_type": "code",
      "metadata": {
        "id": "G5QWcUMMqPYG",
        "colab": {
          "base_uri": "https://localhost:8080/"
        },
        "outputId": "e0fd166c-4b14-4598-f125-bd0b12e8b92d"
      },
      "source": [
        "gpus = tf.config.experimental.list_physical_devices('GPU')\n",
        "if gpus:\n",
        "    try:\n",
        "        for gpu in gpus:\n",
        "            tf.config.experimental.set_memory_growth(gpu, True)\n",
        "\n",
        "    except RuntimeError as e:\n",
        "        print(e)"
      ],
      "execution_count": null,
      "outputs": [
        {
          "output_type": "stream",
          "name": "stdout",
          "text": [
            "Physical devices cannot be modified after being initialized\n"
          ]
        }
      ]
    },
    {
      "cell_type": "code",
      "metadata": {
        "id": "nuLZB6XdqSR-"
      },
      "source": [
        "from tensorflow.keras.mixed_precision import experimental as mixed_precision \n",
        "policy = mixed_precision.Policy('mixed_float16')\n",
        "mixed_precision.set_policy(policy)"
      ],
      "execution_count": null,
      "outputs": []
    },
    {
      "cell_type": "code",
      "metadata": {
        "id": "_yv2vIBvmlrD"
      },
      "source": [
        "img_height, img_width = (224,224)\n",
        "batch_size = 32\n",
        "\n",
        "train_data_dir = \"/content/drive/MyDrive/Resnet18/train\"\n",
        "valid_data_dir = \"/content/drive/MyDrive/Resnet18/val\"\n",
        "test_data_dir  = \"/content/drive/MyDrive/Resnet18/test\""
      ],
      "execution_count": null,
      "outputs": []
    },
    {
      "cell_type": "code",
      "metadata": {
        "colab": {
          "base_uri": "https://localhost:8080/"
        },
        "id": "HbkBTpRBmx20",
        "outputId": "af9793a8-1bc1-45fd-e94d-ec0ef924dd2e"
      },
      "source": [
        "train_datagen = ImageDataGenerator(preprocessing_function=preprocess_input,\n",
        "    rescale = 1./255,\n",
        "    shear_range=0.2,\n",
        "    zoom_range=0.2,\n",
        "    horizontal_flip=True,\n",
        ")\n",
        "\n",
        "test_datagen = ImageDataGenerator(rescale = 1./255)\n",
        "\n",
        "train_generator = train_datagen.flow_from_directory(\n",
        "    train_data_dir,\n",
        "    target_size=(img_height, img_width),\n",
        "    batch_size=batch_size,\n",
        "    class_mode='categorical') # set as training data\n",
        "\n",
        "\n",
        "valid_generator = test_datagen.flow_from_directory(\n",
        "    valid_data_dir, # same directory as training data\n",
        "    target_size=(img_height, img_width),\n",
        "    batch_size=batch_size,\n",
        "    class_mode='categorical') # set as validation data"
      ],
      "execution_count": null,
      "outputs": [
        {
          "output_type": "stream",
          "name": "stdout",
          "text": [
            "Found 22690 images belonging to 3 classes.\n",
            "Found 2835 images belonging to 3 classes.\n"
          ]
        }
      ]
    },
    {
      "cell_type": "code",
      "metadata": {
        "colab": {
          "base_uri": "https://localhost:8080/"
        },
        "id": "vMjXCN8_m1CN",
        "outputId": "3b9256a8-2944-4cc9-daa5-dd0f92bb6009"
      },
      "source": [
        "test_generator = test_datagen.flow_from_directory(\n",
        "    test_data_dir, # same directory as training data\n",
        "    target_size=(img_height, img_width),\n",
        "    batch_size=1,\n",
        "    class_mode='categorical'\n",
        "  ) # set as test data"
      ],
      "execution_count": null,
      "outputs": [
        {
          "output_type": "stream",
          "name": "stdout",
          "text": [
            "Found 2839 images belonging to 3 classes.\n"
          ]
        }
      ]
    },
    {
      "cell_type": "code",
      "metadata": {
        "colab": {
          "base_uri": "https://localhost:8080/"
        },
        "id": "s_H5y-hYm30d",
        "outputId": "75f9ca88-96fb-45ec-b038-0a0993be7743"
      },
      "source": [
        "x,y = test_generator.next()\n",
        "x.shape"
      ],
      "execution_count": null,
      "outputs": [
        {
          "output_type": "execute_result",
          "data": {
            "text/plain": [
              "(1, 224, 224, 3)"
            ]
          },
          "metadata": {},
          "execution_count": 11
        }
      ]
    },
    {
      "cell_type": "code",
      "metadata": {
        "colab": {
          "base_uri": "https://localhost:8080/"
        },
        "id": "2I0lIQI_m-4n",
        "outputId": "b1500c1b-57fe-4033-9d4a-b34661ab455a"
      },
      "source": [
        "len(y)"
      ],
      "execution_count": null,
      "outputs": [
        {
          "output_type": "execute_result",
          "data": {
            "text/plain": [
              "1"
            ]
          },
          "metadata": {},
          "execution_count": 12
        }
      ]
    },
    {
      "cell_type": "code",
      "metadata": {
        "colab": {
          "base_uri": "https://localhost:8080/"
        },
        "id": "O6NvAWjMm5ar",
        "outputId": "08341fa7-d381-4cfc-f7db-a7eacb339574"
      },
      "source": [
        "train_generator.num_classes"
      ],
      "execution_count": null,
      "outputs": [
        {
          "output_type": "execute_result",
          "data": {
            "text/plain": [
              "3"
            ]
          },
          "metadata": {},
          "execution_count": 13
        }
      ]
    },
    {
      "cell_type": "code",
      "metadata": {
        "id": "lJ6_ePCqWJWR"
      },
      "source": [
        "from keras import backend as K\n",
        "import tensorflow as tf\n",
        "\n",
        "# Compatible with tensorflow backend\n",
        "\n",
        "def focal_loss(gamma=2, alpha=.25):\n",
        "\tdef focal_loss_fixed(y_true, y_pred):\n",
        "\t\tpt_1 = tf.where(tf.equal(y_true, 1), y_pred, tf.ones_like(y_pred))\n",
        "\t\tpt_0 = tf.where(tf.equal(y_true, 0), y_pred, tf.zeros_like(y_pred))\n",
        "\t\treturn -K.mean(alpha * K.pow(1. - pt_1, gamma) * K.log(pt_1+K.epsilon())) - K.mean((1 - alpha) * K.pow(pt_0, gamma) * K.log(1. - pt_0 + K.epsilon()))\n",
        "\treturn focal_loss_fixed "
      ],
      "execution_count": null,
      "outputs": []
    },
    {
      "cell_type": "code",
      "metadata": {
        "id": "kHbRNc6KYR_v"
      },
      "source": [
        "es = EarlyStopping(monitor='val_loss', mode='min', verbose=1, patience=10)\n",
        "checkpoint = ModelCheckpoint(\"/content/drive/MyDrive/Classes/Data/Polyp13.h5\", monitor= 'accuracy', verbose=1, save_best_only=True, save_weights_only=False, mode='auto')"
      ],
      "execution_count": null,
      "outputs": []
    },
    {
      "cell_type": "code",
      "metadata": {
        "colab": {
          "base_uri": "https://localhost:8080/"
        },
        "id": "cBX8bunVobGe",
        "outputId": "8e338a45-3109-44f6-ba13-95356eb2615a"
      },
      "source": [
        "base_model = ResNet50(include_top=False, weights='imagenet')\n",
        "x = base_model.output\n",
        "x = GlobalAveragePooling2D()(x)\n",
        "x = Dense(1024, activation='relu')(x)\n",
        "predictions = Dense(train_generator.num_classes, activation='softmax')(x)\n",
        "model = Model(inputs=base_model.input, outputs=predictions) \n",
        "for layer in base_model.layers:\n",
        "    layer.trainable = False\n",
        "    \n",
        "model.compile(optimizer='adam', loss='categorical_crossentropy', metrics = ['accuracy'])\n"
      ],
      "execution_count": null,
      "outputs": [
        {
          "output_type": "stream",
          "name": "stdout",
          "text": [
            "Downloading data from https://storage.googleapis.com/tensorflow/keras-applications/resnet/resnet50_weights_tf_dim_ordering_tf_kernels_notop.h5\n",
            "94773248/94765736 [==============================] - 1s 0us/step\n",
            "94781440/94765736 [==============================] - 1s 0us/step\n",
            "WARNING:tensorflow:tf.keras.mixed_precision.experimental.LossScaleOptimizer is deprecated. Please use tf.keras.mixed_precision.LossScaleOptimizer instead. Note that the non-experimental LossScaleOptimizer does not take a DynamicLossScale but instead takes the dynamic configuration directly in the constructor. For example:\n",
            "  opt = tf.keras.mixed_precision.LossScaleOptimizer(opt)\n",
            "\n"
          ]
        }
      ]
    },
    {
      "cell_type": "code",
      "metadata": {
        "colab": {
          "base_uri": "https://localhost:8080/"
        },
        "id": "GJdB8GS6m63k",
        "outputId": "a1da0b7d-3eac-4de0-b2d6-a4f362f034d2"
      },
      "source": [
        "model.fit(train_generator,validation_data=valid_generator,epochs = 160,callbacks=[es,checkpoint])"
      ],
      "execution_count": null,
      "outputs": [
        {
          "output_type": "stream",
          "name": "stdout",
          "text": [
            "Epoch 1/160\n",
            "710/710 [==============================] - 7361s 10s/step - loss: 0.9811 - accuracy: 0.5373 - val_loss: 0.9245 - val_accuracy: 0.5527\n",
            "\n",
            "Epoch 00001: accuracy improved from -inf to 0.53729, saving model to /content/drive/MyDrive/Classes/Data/Polyp13.h5\n"
          ]
        },
        {
          "output_type": "stream",
          "name": "stderr",
          "text": [
            "/usr/local/lib/python3.7/dist-packages/keras/utils/generic_utils.py:497: CustomMaskWarning: Custom mask layers require a config and must override get_config. When loading, the custom mask layer must be passed to the custom_objects argument.\n",
            "  category=CustomMaskWarning)\n"
          ]
        },
        {
          "output_type": "stream",
          "name": "stdout",
          "text": [
            "Epoch 2/160\n",
            "710/710 [==============================] - 380s 535ms/step - loss: 0.9327 - accuracy: 0.5545 - val_loss: 0.9048 - val_accuracy: 0.5443\n",
            "\n",
            "Epoch 00002: accuracy improved from 0.53729 to 0.55452, saving model to /content/drive/MyDrive/Classes/Data/Polyp13.h5\n",
            "Epoch 3/160\n",
            "710/710 [==============================] - 379s 533ms/step - loss: 0.9150 - accuracy: 0.5605 - val_loss: 0.9299 - val_accuracy: 0.5534\n",
            "\n",
            "Epoch 00003: accuracy improved from 0.55452 to 0.56051, saving model to /content/drive/MyDrive/Classes/Data/Polyp13.h5\n",
            "Epoch 4/160\n",
            "710/710 [==============================] - 379s 534ms/step - loss: 0.8837 - accuracy: 0.5703 - val_loss: 0.8532 - val_accuracy: 0.6081\n",
            "\n",
            "Epoch 00004: accuracy improved from 0.56051 to 0.57030, saving model to /content/drive/MyDrive/Classes/Data/Polyp13.h5\n",
            "Epoch 5/160\n",
            "710/710 [==============================] - 377s 530ms/step - loss: 0.8570 - accuracy: 0.5924 - val_loss: 0.8245 - val_accuracy: 0.6134\n",
            "\n",
            "Epoch 00005: accuracy improved from 0.57030 to 0.59238, saving model to /content/drive/MyDrive/Classes/Data/Polyp13.h5\n",
            "Epoch 6/160\n",
            "710/710 [==============================] - 377s 530ms/step - loss: 0.8419 - accuracy: 0.6028 - val_loss: 0.9259 - val_accuracy: 0.5594\n",
            "\n",
            "Epoch 00006: accuracy improved from 0.59238 to 0.60282, saving model to /content/drive/MyDrive/Classes/Data/Polyp13.h5\n",
            "Epoch 7/160\n",
            "710/710 [==============================] - 376s 530ms/step - loss: 0.8212 - accuracy: 0.6158 - val_loss: 0.8306 - val_accuracy: 0.6085\n",
            "\n",
            "Epoch 00007: accuracy improved from 0.60282 to 0.61582, saving model to /content/drive/MyDrive/Classes/Data/Polyp13.h5\n",
            "Epoch 8/160\n",
            "710/710 [==============================] - 376s 530ms/step - loss: 0.8027 - accuracy: 0.6298 - val_loss: 0.8403 - val_accuracy: 0.6106\n",
            "\n",
            "Epoch 00008: accuracy improved from 0.61582 to 0.62984, saving model to /content/drive/MyDrive/Classes/Data/Polyp13.h5\n",
            "Epoch 9/160\n",
            "710/710 [==============================] - 375s 528ms/step - loss: 0.8046 - accuracy: 0.6276 - val_loss: 0.8079 - val_accuracy: 0.6310\n",
            "\n",
            "Epoch 00009: accuracy did not improve from 0.62984\n",
            "Epoch 10/160\n",
            "710/710 [==============================] - 374s 526ms/step - loss: 0.7902 - accuracy: 0.6322 - val_loss: 0.7996 - val_accuracy: 0.6367\n",
            "\n",
            "Epoch 00010: accuracy improved from 0.62984 to 0.63222, saving model to /content/drive/MyDrive/Classes/Data/Polyp13.h5\n",
            "Epoch 11/160\n",
            "710/710 [==============================] - 374s 526ms/step - loss: 0.7770 - accuracy: 0.6424 - val_loss: 0.8211 - val_accuracy: 0.6250\n",
            "\n",
            "Epoch 00011: accuracy improved from 0.63222 to 0.64244, saving model to /content/drive/MyDrive/Classes/Data/Polyp13.h5\n",
            "Epoch 12/160\n",
            "710/710 [==============================] - 375s 528ms/step - loss: 0.7598 - accuracy: 0.6547 - val_loss: 0.7628 - val_accuracy: 0.6540\n",
            "\n",
            "Epoch 00012: accuracy improved from 0.64244 to 0.65469, saving model to /content/drive/MyDrive/Classes/Data/Polyp13.h5\n",
            "Epoch 13/160\n",
            "710/710 [==============================] - 376s 529ms/step - loss: 0.7629 - accuracy: 0.6534 - val_loss: 0.8395 - val_accuracy: 0.6300\n",
            "\n",
            "Epoch 00013: accuracy did not improve from 0.65469\n",
            "Epoch 14/160\n",
            "710/710 [==============================] - 375s 529ms/step - loss: 0.7468 - accuracy: 0.6667 - val_loss: 0.7217 - val_accuracy: 0.6713\n",
            "\n",
            "Epoch 00014: accuracy improved from 0.65469 to 0.66673, saving model to /content/drive/MyDrive/Classes/Data/Polyp13.h5\n",
            "Epoch 15/160\n",
            "710/710 [==============================] - 375s 528ms/step - loss: 0.7411 - accuracy: 0.6690 - val_loss: 0.7306 - val_accuracy: 0.6713\n",
            "\n",
            "Epoch 00015: accuracy improved from 0.66673 to 0.66897, saving model to /content/drive/MyDrive/Classes/Data/Polyp13.h5\n",
            "Epoch 16/160\n",
            "710/710 [==============================] - 375s 528ms/step - loss: 0.7373 - accuracy: 0.6702 - val_loss: 0.7298 - val_accuracy: 0.6836\n",
            "\n",
            "Epoch 00016: accuracy improved from 0.66897 to 0.67016, saving model to /content/drive/MyDrive/Classes/Data/Polyp13.h5\n",
            "Epoch 17/160\n",
            "710/710 [==============================] - 375s 529ms/step - loss: 0.7221 - accuracy: 0.6782 - val_loss: 0.7824 - val_accuracy: 0.6515\n",
            "\n",
            "Epoch 00017: accuracy improved from 0.67016 to 0.67818, saving model to /content/drive/MyDrive/Classes/Data/Polyp13.h5\n",
            "Epoch 18/160\n",
            "710/710 [==============================] - 376s 529ms/step - loss: 0.7162 - accuracy: 0.6796 - val_loss: 0.7336 - val_accuracy: 0.6769\n",
            "\n",
            "Epoch 00018: accuracy improved from 0.67818 to 0.67964, saving model to /content/drive/MyDrive/Classes/Data/Polyp13.h5\n",
            "Epoch 19/160\n",
            "710/710 [==============================] - 377s 531ms/step - loss: 0.7105 - accuracy: 0.6855 - val_loss: 0.6891 - val_accuracy: 0.6910\n",
            "\n",
            "Epoch 00019: accuracy improved from 0.67964 to 0.68550, saving model to /content/drive/MyDrive/Classes/Data/Polyp13.h5\n",
            "Epoch 20/160\n",
            "710/710 [==============================] - 375s 528ms/step - loss: 0.7096 - accuracy: 0.6873 - val_loss: 0.6959 - val_accuracy: 0.7002\n",
            "\n",
            "Epoch 00020: accuracy improved from 0.68550 to 0.68726, saving model to /content/drive/MyDrive/Classes/Data/Polyp13.h5\n",
            "Epoch 21/160\n",
            "710/710 [==============================] - 376s 530ms/step - loss: 0.7007 - accuracy: 0.6925 - val_loss: 0.6720 - val_accuracy: 0.6970\n",
            "\n",
            "Epoch 00021: accuracy improved from 0.68726 to 0.69246, saving model to /content/drive/MyDrive/Classes/Data/Polyp13.h5\n",
            "Epoch 22/160\n",
            "710/710 [==============================] - 376s 530ms/step - loss: 0.6991 - accuracy: 0.6889 - val_loss: 0.6697 - val_accuracy: 0.7034\n",
            "\n",
            "Epoch 00022: accuracy did not improve from 0.69246\n",
            "Epoch 23/160\n",
            "710/710 [==============================] - 376s 529ms/step - loss: 0.6855 - accuracy: 0.6998 - val_loss: 0.7126 - val_accuracy: 0.6921\n",
            "\n",
            "Epoch 00023: accuracy improved from 0.69246 to 0.69982, saving model to /content/drive/MyDrive/Classes/Data/Polyp13.h5\n",
            "Epoch 24/160\n",
            "710/710 [==============================] - 377s 530ms/step - loss: 0.6865 - accuracy: 0.7029 - val_loss: 0.6658 - val_accuracy: 0.6977\n",
            "\n",
            "Epoch 00024: accuracy improved from 0.69982 to 0.70286, saving model to /content/drive/MyDrive/Classes/Data/Polyp13.h5\n",
            "Epoch 25/160\n",
            "710/710 [==============================] - 375s 529ms/step - loss: 0.6699 - accuracy: 0.7085 - val_loss: 0.6883 - val_accuracy: 0.6885\n",
            "\n",
            "Epoch 00025: accuracy improved from 0.70286 to 0.70846, saving model to /content/drive/MyDrive/Classes/Data/Polyp13.h5\n",
            "Epoch 26/160\n",
            "710/710 [==============================] - 375s 529ms/step - loss: 0.6794 - accuracy: 0.7043 - val_loss: 0.6812 - val_accuracy: 0.7093\n",
            "\n",
            "Epoch 00026: accuracy did not improve from 0.70846\n",
            "Epoch 27/160\n",
            "710/710 [==============================] - 374s 527ms/step - loss: 0.6757 - accuracy: 0.7079 - val_loss: 0.6602 - val_accuracy: 0.7266\n",
            "\n",
            "Epoch 00027: accuracy did not improve from 0.70846\n",
            "Epoch 28/160\n",
            "710/710 [==============================] - 375s 528ms/step - loss: 0.6593 - accuracy: 0.7124 - val_loss: 0.6382 - val_accuracy: 0.7189\n",
            "\n",
            "Epoch 00028: accuracy improved from 0.70846 to 0.71238, saving model to /content/drive/MyDrive/Classes/Data/Polyp13.h5\n",
            "Epoch 29/160\n",
            "710/710 [==============================] - 376s 530ms/step - loss: 0.6570 - accuracy: 0.7158 - val_loss: 0.6518 - val_accuracy: 0.7069\n",
            "\n",
            "Epoch 00029: accuracy improved from 0.71238 to 0.71578, saving model to /content/drive/MyDrive/Classes/Data/Polyp13.h5\n",
            "Epoch 30/160\n",
            "710/710 [==============================] - 375s 528ms/step - loss: 0.6454 - accuracy: 0.7227 - val_loss: 0.6476 - val_accuracy: 0.7326\n",
            "\n",
            "Epoch 00030: accuracy improved from 0.71578 to 0.72274, saving model to /content/drive/MyDrive/Classes/Data/Polyp13.h5\n",
            "Epoch 31/160\n",
            "710/710 [==============================] - 375s 528ms/step - loss: 0.6478 - accuracy: 0.7232 - val_loss: 0.7005 - val_accuracy: 0.7023\n",
            "\n",
            "Epoch 00031: accuracy improved from 0.72274 to 0.72323, saving model to /content/drive/MyDrive/Classes/Data/Polyp13.h5\n",
            "Epoch 32/160\n",
            "710/710 [==============================] - 376s 529ms/step - loss: 0.6477 - accuracy: 0.7183 - val_loss: 0.6022 - val_accuracy: 0.7485\n",
            "\n",
            "Epoch 00032: accuracy did not improve from 0.72323\n",
            "Epoch 33/160\n",
            "710/710 [==============================] - 376s 530ms/step - loss: 0.6481 - accuracy: 0.7230 - val_loss: 0.6731 - val_accuracy: 0.6949\n",
            "\n",
            "Epoch 00033: accuracy did not improve from 0.72323\n",
            "Epoch 34/160\n",
            "710/710 [==============================] - 376s 530ms/step - loss: 0.6321 - accuracy: 0.7284 - val_loss: 0.6273 - val_accuracy: 0.7196\n",
            "\n",
            "Epoch 00034: accuracy improved from 0.72323 to 0.72843, saving model to /content/drive/MyDrive/Classes/Data/Polyp13.h5\n",
            "Epoch 35/160\n",
            "710/710 [==============================] - 376s 529ms/step - loss: 0.6441 - accuracy: 0.7220 - val_loss: 0.6456 - val_accuracy: 0.7393\n",
            "\n",
            "Epoch 00035: accuracy did not improve from 0.72843\n",
            "Epoch 36/160\n",
            "710/710 [==============================] - 375s 528ms/step - loss: 0.6319 - accuracy: 0.7299 - val_loss: 0.5992 - val_accuracy: 0.7379\n",
            "\n",
            "Epoch 00036: accuracy improved from 0.72843 to 0.72993, saving model to /content/drive/MyDrive/Classes/Data/Polyp13.h5\n",
            "Epoch 37/160\n",
            "710/710 [==============================] - 375s 528ms/step - loss: 0.6270 - accuracy: 0.7320 - val_loss: 0.7152 - val_accuracy: 0.6861\n",
            "\n",
            "Epoch 00037: accuracy improved from 0.72993 to 0.73200, saving model to /content/drive/MyDrive/Classes/Data/Polyp13.h5\n",
            "Epoch 38/160\n",
            "710/710 [==============================] - 376s 530ms/step - loss: 0.6130 - accuracy: 0.7416 - val_loss: 0.5858 - val_accuracy: 0.7686\n",
            "\n",
            "Epoch 00038: accuracy improved from 0.73200 to 0.74160, saving model to /content/drive/MyDrive/Classes/Data/Polyp13.h5\n",
            "Epoch 39/160\n",
            "710/710 [==============================] - 376s 529ms/step - loss: 0.6255 - accuracy: 0.7305 - val_loss: 0.5929 - val_accuracy: 0.7453\n",
            "\n",
            "Epoch 00039: accuracy did not improve from 0.74160\n",
            "Epoch 40/160\n",
            "710/710 [==============================] - 375s 529ms/step - loss: 0.6105 - accuracy: 0.7444 - val_loss: 0.5900 - val_accuracy: 0.7549\n",
            "\n",
            "Epoch 00040: accuracy improved from 0.74160 to 0.74438, saving model to /content/drive/MyDrive/Classes/Data/Polyp13.h5\n",
            "Epoch 41/160\n",
            "710/710 [==============================] - 376s 529ms/step - loss: 0.6187 - accuracy: 0.7361 - val_loss: 0.6193 - val_accuracy: 0.7266\n",
            "\n",
            "Epoch 00041: accuracy did not improve from 0.74438\n",
            "Epoch 42/160\n",
            "710/710 [==============================] - 375s 529ms/step - loss: 0.6047 - accuracy: 0.7435 - val_loss: 0.5990 - val_accuracy: 0.7407\n",
            "\n",
            "Epoch 00042: accuracy did not improve from 0.74438\n",
            "Epoch 43/160\n",
            "710/710 [==============================] - 376s 529ms/step - loss: 0.6097 - accuracy: 0.7425 - val_loss: 0.5898 - val_accuracy: 0.7573\n",
            "\n",
            "Epoch 00043: accuracy did not improve from 0.74438\n",
            "Epoch 44/160\n",
            "710/710 [==============================] - 375s 529ms/step - loss: 0.5951 - accuracy: 0.7478 - val_loss: 0.5864 - val_accuracy: 0.7623\n",
            "\n",
            "Epoch 00044: accuracy improved from 0.74438 to 0.74782, saving model to /content/drive/MyDrive/Classes/Data/Polyp13.h5\n",
            "Epoch 45/160\n",
            "710/710 [==============================] - 376s 529ms/step - loss: 0.5942 - accuracy: 0.7487 - val_loss: 0.5682 - val_accuracy: 0.7725\n",
            "\n",
            "Epoch 00045: accuracy improved from 0.74782 to 0.74866, saving model to /content/drive/MyDrive/Classes/Data/Polyp13.h5\n",
            "Epoch 46/160\n",
            "710/710 [==============================] - 377s 530ms/step - loss: 0.6044 - accuracy: 0.7428 - val_loss: 0.6001 - val_accuracy: 0.7422\n",
            "\n",
            "Epoch 00046: accuracy did not improve from 0.74866\n",
            "Epoch 47/160\n",
            "710/710 [==============================] - 376s 529ms/step - loss: 0.5997 - accuracy: 0.7474 - val_loss: 0.5797 - val_accuracy: 0.7400\n",
            "\n",
            "Epoch 00047: accuracy did not improve from 0.74866\n",
            "Epoch 48/160\n",
            "710/710 [==============================] - 375s 529ms/step - loss: 0.5855 - accuracy: 0.7528 - val_loss: 0.5648 - val_accuracy: 0.7644\n",
            "\n",
            "Epoch 00048: accuracy improved from 0.74866 to 0.75284, saving model to /content/drive/MyDrive/Classes/Data/Polyp13.h5\n",
            "Epoch 49/160\n",
            "710/710 [==============================] - 377s 531ms/step - loss: 0.5846 - accuracy: 0.7552 - val_loss: 0.5536 - val_accuracy: 0.7760\n",
            "\n",
            "Epoch 00049: accuracy improved from 0.75284 to 0.75522, saving model to /content/drive/MyDrive/Classes/Data/Polyp13.h5\n",
            "Epoch 50/160\n",
            "710/710 [==============================] - 376s 530ms/step - loss: 0.5830 - accuracy: 0.7527 - val_loss: 0.5978 - val_accuracy: 0.7541\n",
            "\n",
            "Epoch 00050: accuracy did not improve from 0.75522\n",
            "Epoch 51/160\n",
            "710/710 [==============================] - 377s 530ms/step - loss: 0.5767 - accuracy: 0.7560 - val_loss: 0.5608 - val_accuracy: 0.7584\n",
            "\n",
            "Epoch 00051: accuracy improved from 0.75522 to 0.75602, saving model to /content/drive/MyDrive/Classes/Data/Polyp13.h5\n",
            "Epoch 52/160\n",
            "710/710 [==============================] - 377s 530ms/step - loss: 0.5978 - accuracy: 0.7461 - val_loss: 0.5671 - val_accuracy: 0.7460\n",
            "\n",
            "Epoch 00052: accuracy did not improve from 0.75602\n",
            "Epoch 53/160\n",
            "710/710 [==============================] - 376s 529ms/step - loss: 0.5738 - accuracy: 0.7611 - val_loss: 0.7002 - val_accuracy: 0.6878\n",
            "\n",
            "Epoch 00053: accuracy improved from 0.75602 to 0.76113, saving model to /content/drive/MyDrive/Classes/Data/Polyp13.h5\n",
            "Epoch 54/160\n",
            "710/710 [==============================] - 376s 530ms/step - loss: 0.5813 - accuracy: 0.7528 - val_loss: 0.5576 - val_accuracy: 0.7668\n",
            "\n",
            "Epoch 00054: accuracy did not improve from 0.76113\n",
            "Epoch 55/160\n",
            "710/710 [==============================] - 376s 530ms/step - loss: 0.5699 - accuracy: 0.7629 - val_loss: 0.5724 - val_accuracy: 0.7647\n",
            "\n",
            "Epoch 00055: accuracy improved from 0.76113 to 0.76294, saving model to /content/drive/MyDrive/Classes/Data/Polyp13.h5\n",
            "Epoch 56/160\n",
            "710/710 [==============================] - 376s 530ms/step - loss: 0.5791 - accuracy: 0.7554 - val_loss: 0.5319 - val_accuracy: 0.7788\n",
            "\n",
            "Epoch 00056: accuracy did not improve from 0.76294\n",
            "Epoch 57/160\n",
            "710/710 [==============================] - 377s 531ms/step - loss: 0.5598 - accuracy: 0.7670 - val_loss: 0.5657 - val_accuracy: 0.7432\n",
            "\n",
            "Epoch 00057: accuracy improved from 0.76294 to 0.76703, saving model to /content/drive/MyDrive/Classes/Data/Polyp13.h5\n",
            "Epoch 58/160\n",
            "710/710 [==============================] - 377s 532ms/step - loss: 0.5663 - accuracy: 0.7642 - val_loss: 0.5362 - val_accuracy: 0.7806\n",
            "\n",
            "Epoch 00058: accuracy did not improve from 0.76703\n",
            "Epoch 59/160\n",
            "710/710 [==============================] - 376s 530ms/step - loss: 0.5653 - accuracy: 0.7631 - val_loss: 0.5559 - val_accuracy: 0.7767\n",
            "\n",
            "Epoch 00059: accuracy did not improve from 0.76703\n",
            "Epoch 60/160\n",
            "710/710 [==============================] - 376s 530ms/step - loss: 0.5574 - accuracy: 0.7653 - val_loss: 0.5567 - val_accuracy: 0.7630\n",
            "\n",
            "Epoch 00060: accuracy did not improve from 0.76703\n",
            "Epoch 61/160\n",
            "710/710 [==============================] - 376s 529ms/step - loss: 0.5626 - accuracy: 0.7637 - val_loss: 0.6600 - val_accuracy: 0.7228\n",
            "\n",
            "Epoch 00061: accuracy did not improve from 0.76703\n",
            "Epoch 62/160\n",
            "710/710 [==============================] - 376s 529ms/step - loss: 0.5539 - accuracy: 0.7715 - val_loss: 0.5542 - val_accuracy: 0.7725\n",
            "\n",
            "Epoch 00062: accuracy improved from 0.76703 to 0.77149, saving model to /content/drive/MyDrive/Classes/Data/Polyp13.h5\n",
            "Epoch 63/160\n",
            "710/710 [==============================] - 377s 531ms/step - loss: 0.5463 - accuracy: 0.7702 - val_loss: 0.6583 - val_accuracy: 0.7012\n",
            "\n",
            "Epoch 00063: accuracy did not improve from 0.77149\n",
            "Epoch 64/160\n",
            "710/710 [==============================] - 377s 530ms/step - loss: 0.5563 - accuracy: 0.7655 - val_loss: 0.7830 - val_accuracy: 0.6748\n",
            "\n",
            "Epoch 00064: accuracy did not improve from 0.77149\n",
            "Epoch 65/160\n",
            "710/710 [==============================] - 376s 530ms/step - loss: 0.5508 - accuracy: 0.7677 - val_loss: 0.5640 - val_accuracy: 0.7739\n",
            "\n",
            "Epoch 00065: accuracy did not improve from 0.77149\n",
            "Epoch 66/160\n",
            "710/710 [==============================] - 377s 531ms/step - loss: 0.5514 - accuracy: 0.7699 - val_loss: 0.5855 - val_accuracy: 0.7499\n",
            "\n",
            "Epoch 00066: accuracy did not improve from 0.77149\n",
            "Epoch 00066: early stopping\n"
          ]
        },
        {
          "output_type": "execute_result",
          "data": {
            "text/plain": [
              "<keras.callbacks.History at 0x7f0b98a05990>"
            ]
          },
          "metadata": {},
          "execution_count": 17
        }
      ]
    },
    {
      "cell_type": "code",
      "metadata": {
        "id": "nRht2HVdm68M",
        "colab": {
          "base_uri": "https://localhost:8080/"
        },
        "outputId": "2566c6b7-ca66-45bb-f4de-0b628327c2a8"
      },
      "source": [
        "model.save('/content/drive/MyDrive/Classes/Data/Polyp13.h5' )"
      ],
      "execution_count": null,
      "outputs": [
        {
          "output_type": "stream",
          "name": "stderr",
          "text": [
            "/usr/local/lib/python3.7/dist-packages/keras/utils/generic_utils.py:497: CustomMaskWarning: Custom mask layers require a config and must override get_config. When loading, the custom mask layer must be passed to the custom_objects argument.\n",
            "  category=CustomMaskWarning)\n"
          ]
        }
      ]
    },
    {
      "cell_type": "code",
      "metadata": {
        "id": "9MdT5ceSna6U",
        "colab": {
          "base_uri": "https://localhost:8080/",
          "height": 347
        },
        "outputId": "b49dbc7e-791e-4832-bd5c-60d9dc4516ed"
      },
      "source": [
        "test_loss, test_acc = model.evaluate(valid_generator, verbose=2)\n",
        "print('\\nTest accuracy:', test_acc)\n",
        "import pandas as pd\n",
        "import seaborn as sn\n",
        "import tensorflow as tf\n",
        "\n",
        "model = tf.keras.models.load_model(\"/content/drive/MyDrive/Classes/Data/Polyp13.h5\",compile=False)\n",
        "filenames = test_generator.filenames\n",
        "nb_samples = len(test_generator)\n",
        "y_prob=[]\n",
        "y_act=[]\n",
        "test_generator.reset()\n",
        "for _ in range(nb_samples):\n",
        "  X_test,Y_test = test_generator.next()\n",
        "  y_prob.append(model.predict(X_test))\n",
        "  y_act.append(Y_test)\n",
        "\n",
        "predicted_class = [list(train_generator.class_indices.keys())[i.argmax()] for i in y_prob]\n",
        "actual_class = [list(train_generator.class_indices.keys())[i.argmax()] for i in y_act]\n",
        "\n",
        "\n",
        "out_df = pd.DataFrame(np.vstack([predicted_class,actual_class]).T,columns=['predicted_class','actual_class'])\n",
        "confusion_matrix = pd.crosstab(out_df['actual_class'],out_df['predicted_class'], rownames=['Actual'], colnames=['Predicted'])\n",
        "\n",
        "sn.heatmap(confusion_matrix,cmap='Blues', annot=True,fmt='d')\n",
        "plt.show() \n",
        "print('test accuracy : {}'.format((np.diagonal(confusion_matrix).sum()/confusion_matrix.sum().sum()*100))) "
      ],
      "execution_count": null,
      "outputs": [
        {
          "output_type": "stream",
          "name": "stdout",
          "text": [
            "89/89 - 21s - loss: 0.5855 - accuracy: 0.7499\n",
            "\n",
            "Test accuracy: 0.7499118447303772\n"
          ]
        },
        {
          "output_type": "display_data",
          "data": {
            "image/png": "[encoded data removed]",
            "text/plain": [
              "<Figure size 432x288 with 2 Axes>"
            ]
          },
          "metadata": {
            "needs_background": "light"
          }
        },
        {
          "output_type": "stream",
          "name": "stdout",
          "text": [
            "test accuracy : 73.72314195139134\n"
          ]
        }
      ]
    },
    {
      "cell_type": "code",
      "metadata": {
        "id": "FV6mMj6MdIrd"
      },
      "source": [
        ""
      ],
      "execution_count": null,
      "outputs": []
    }
  ]
}